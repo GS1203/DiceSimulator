{
 "cells": [
  {
   "cell_type": "code",
   "execution_count": 2,
   "id": "64665a59",
   "metadata": {},
   "outputs": [
    {
     "name": "stdout",
     "output_type": "stream",
     "text": [
      "How many dice would you like to roll?\n",
      "Type an integer between 1 and 10: h\n",
      "Please provide an integer\n",
      "Type an integer between 1 and 10: 5\n",
      "Die  1 :  1\n",
      "Die  2 :  2\n",
      "Die  3 :  1\n",
      "Die  4 :  1\n",
      "Die  5 :  3\n"
     ]
    }
   ],
   "source": [
    "import random\n",
    "print(\"How many dice would you like to roll?\")\n",
    "\n",
    "while True:\n",
    "  try:\n",
    "    no = int(input(\"Type an integer between 1 and 10: \"))\n",
    "    if(no> 0 and no < 10):\n",
    "      break\n",
    "    else:\n",
    "      print(\"Invalid input. Try again.\")\n",
    "  except:\n",
    "    print(\"Please provide an integer\")\n",
    "\n",
    "def rollDice(amountOfDice):\n",
    "  \n",
    "  possibleFaces = [1,2,3,4,5,6]\n",
    "  for die in range(amountOfDice):\n",
    "    roll = random.choice(possibleFaces)\n",
    "    print(\"Die \", die + 1, \": \", roll)\n",
    "\n",
    "\n",
    "rollDice(no)"
   ]
  },
  {
   "cell_type": "code",
   "execution_count": null,
   "id": "e233bcb5",
   "metadata": {},
   "outputs": [],
   "source": []
  }
 ],
 "metadata": {
  "kernelspec": {
   "display_name": "Python 3 (ipykernel)",
   "language": "python",
   "name": "python3"
  },
  "language_info": {
   "codemirror_mode": {
    "name": "ipython",
    "version": 3
   },
   "file_extension": ".py",
   "mimetype": "text/x-python",
   "name": "python",
   "nbconvert_exporter": "python",
   "pygments_lexer": "ipython3",
   "version": "3.9.13"
  }
 },
 "nbformat": 4,
 "nbformat_minor": 5
}
